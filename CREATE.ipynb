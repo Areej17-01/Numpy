{
 "cells": [
  {
   "cell_type": "code",
   "execution_count": 4,
   "id": "ed54207e",
   "metadata": {},
   "outputs": [],
   "source": [
    "import numpy as np\n",
    "import pandas as pd\n"
   ]
  },
  {
   "cell_type": "markdown",
   "id": "e236ec2c",
   "metadata": {},
   "source": [
    "### random.rand\n",
    "GENERATES RANDOM NUMBERS"
   ]
  },
  {
   "cell_type": "markdown",
   "id": "aedf8691",
   "metadata": {},
   "source": [
    "(2,3,4)\n",
    "2= number of rows\n",
    "3= number of column\n",
    "4= no of values"
   ]
  },
  {
   "cell_type": "code",
   "execution_count": 5,
   "id": "fa61d7b4",
   "metadata": {},
   "outputs": [
    {
     "data": {
      "text/plain": [
       "array([[[0.27258924, 0.95946823, 0.82898651, 0.56154772],\n",
       "        [0.28499987, 0.07965192, 0.42898475, 0.96848054],\n",
       "        [0.62579326, 0.10936053, 0.55074546, 0.95331429]],\n",
       "\n",
       "       [[0.14895497, 0.56996796, 0.87928551, 0.91293159],\n",
       "        [0.41200947, 0.01535148, 0.91025961, 0.50560608],\n",
       "        [0.07580464, 0.81138967, 0.18673174, 0.96817326]]])"
      ]
     },
     "execution_count": 5,
     "metadata": {},
     "output_type": "execute_result"
    }
   ],
   "source": [
    "data = np.random.rand(2,3,4)\n",
    "data"
   ]
  },
  {
   "cell_type": "markdown",
   "id": "9dc736ef",
   "metadata": {},
   "source": [
    "### zeros\n",
    "generates row of zeros"
   ]
  },
  {
   "cell_type": "code",
   "execution_count": 8,
   "id": "a8d9c7df",
   "metadata": {},
   "outputs": [
    {
     "data": {
      "text/plain": [
       "array([[[0., 0.],\n",
       "        [0., 0.]],\n",
       "\n",
       "       [[0., 0.],\n",
       "        [0., 0.]]])"
      ]
     },
     "execution_count": 8,
     "metadata": {},
     "output_type": "execute_result"
    }
   ],
   "source": [
    "zeroes = np.zeros((2,2,2))\n",
    "zeroes"
   ]
  },
  {
   "cell_type": "markdown",
   "id": "33976af8",
   "metadata": {},
   "source": [
    "### full\n",
    "generates rows of given number"
   ]
  },
  {
   "cell_type": "code",
   "execution_count": 9,
   "id": "870abc95",
   "metadata": {},
   "outputs": [
    {
     "data": {
      "text/plain": [
       "array([[[7, 7],\n",
       "        [7, 7]],\n",
       "\n",
       "       [[7, 7],\n",
       "        [7, 7]]])"
      ]
     },
     "execution_count": 9,
     "metadata": {},
     "output_type": "execute_result"
    }
   ],
   "source": [
    "full = np.full((2,2,2), 7)\n",
    "full"
   ]
  },
  {
   "cell_type": "markdown",
   "id": "a205257f",
   "metadata": {},
   "source": [
    "### one\n",
    "generates rows of ones"
   ]
  },
  {
   "cell_type": "code",
   "execution_count": 10,
   "id": "da9dd783",
   "metadata": {},
   "outputs": [
    {
     "data": {
      "text/plain": [
       "array([[[1., 1.],\n",
       "        [1., 1.]],\n",
       "\n",
       "       [[1., 1.],\n",
       "        [1., 1.]]])"
      ]
     },
     "execution_count": 10,
     "metadata": {},
     "output_type": "execute_result"
    }
   ],
   "source": [
    "ones = np.ones((2,2,2))\n",
    "ones"
   ]
  },
  {
   "cell_type": "markdown",
   "id": "ecd846b0",
   "metadata": {},
   "source": [
    "### 2-D random.rand"
   ]
  },
  {
   "cell_type": "code",
   "execution_count": 28,
   "id": "281f6643",
   "metadata": {},
   "outputs": [
    {
     "data": {
      "text/plain": [
       "array([[0.93419063, 0.31088582],\n",
       "       [0.95768967, 0.44314336]])"
      ]
     },
     "execution_count": 28,
     "metadata": {},
     "output_type": "execute_result"
    }
   ],
   "source": [
    "data = np.random.rand(2,2)\n",
    "data"
   ]
  },
  {
   "cell_type": "code",
   "execution_count": 29,
   "id": "6149d72d",
   "metadata": {},
   "outputs": [
    {
     "data": {
      "text/html": [
       "<div>\n",
       "<style scoped>\n",
       "    .dataframe tbody tr th:only-of-type {\n",
       "        vertical-align: middle;\n",
       "    }\n",
       "\n",
       "    .dataframe tbody tr th {\n",
       "        vertical-align: top;\n",
       "    }\n",
       "\n",
       "    .dataframe thead th {\n",
       "        text-align: right;\n",
       "    }\n",
       "</style>\n",
       "<table border=\"1\" class=\"dataframe\">\n",
       "  <thead>\n",
       "    <tr style=\"text-align: right;\">\n",
       "      <th></th>\n",
       "      <th>0</th>\n",
       "      <th>1</th>\n",
       "    </tr>\n",
       "  </thead>\n",
       "  <tbody>\n",
       "    <tr>\n",
       "      <th>0</th>\n",
       "      <td>0.934191</td>\n",
       "      <td>0.310886</td>\n",
       "    </tr>\n",
       "    <tr>\n",
       "      <th>1</th>\n",
       "      <td>0.957690</td>\n",
       "      <td>0.443143</td>\n",
       "    </tr>\n",
       "  </tbody>\n",
       "</table>\n",
       "</div>"
      ],
      "text/plain": [
       "          0         1\n",
       "0  0.934191  0.310886\n",
       "1  0.957690  0.443143"
      ]
     },
     "execution_count": 29,
     "metadata": {},
     "output_type": "execute_result"
    }
   ],
   "source": [
    "pd.DataFrame(data)"
   ]
  },
  {
   "cell_type": "code",
   "execution_count": 43,
   "id": "773375d2",
   "metadata": {},
   "outputs": [
    {
     "data": {
      "text/plain": [
       "array([[0., 0., 0., 0.],\n",
       "       [0., 0., 0., 0.],\n",
       "       [0., 0., 0., 0.]])"
      ]
     },
     "execution_count": 43,
     "metadata": {},
     "output_type": "execute_result"
    }
   ],
   "source": [
    "np.zeros((3,4)) #Create an array of zeros"
   ]
  },
  {
   "cell_type": "code",
   "execution_count": 32,
   "id": "72d4a31f",
   "metadata": {},
   "outputs": [
    {
     "data": {
      "text/plain": [
       "array([[[1, 1, 1, 1],\n",
       "        [1, 1, 1, 1],\n",
       "        [1, 1, 1, 1]],\n",
       "\n",
       "       [[1, 1, 1, 1],\n",
       "        [1, 1, 1, 1],\n",
       "        [1, 1, 1, 1]]], dtype=int16)"
      ]
     },
     "execution_count": 32,
     "metadata": {},
     "output_type": "execute_result"
    }
   ],
   "source": [
    "np.ones((2,3,4),dtype=np.int16) #Create an array of ones"
   ]
  },
  {
   "cell_type": "markdown",
   "id": "2f6dcc2d",
   "metadata": {},
   "source": [
    "### arange\n",
    "problem with arange is to do casting or due to using floating points when start is much larger than step. This can lead to unexpected behaviour.\n",
    "andthe other prblem is memory result in incorrect results for large integer values.\n",
    "\n"
   ]
  },
  {
   "cell_type": "code",
   "execution_count": 34,
   "id": "1ba178ea",
   "metadata": {},
   "outputs": [
    {
     "data": {
      "text/plain": [
       "array([10, 15, 20])"
      ]
     },
     "execution_count": 34,
     "metadata": {},
     "output_type": "execute_result"
    }
   ],
   "source": [
    "np.arange(10,25,5) #Create an array of evenly spaced values (step value)"
   ]
  },
  {
   "cell_type": "code",
   "execution_count": 37,
   "id": "9fdfe43c",
   "metadata": {},
   "outputs": [
    {
     "data": {
      "text/plain": [
       "array([0, 0, 0, 0, 0, 0, 0, 0, 0, 0])"
      ]
     },
     "execution_count": 37,
     "metadata": {},
     "output_type": "execute_result"
    }
   ],
   "source": [
    "np.arange(0, 5, 0.5, dtype=int)\n"
   ]
  },
  {
   "cell_type": "markdown",
   "id": "cf4fde35",
   "metadata": {},
   "source": [
    "### linspace\n",
    "use linspace for that purpose instead "
   ]
  },
  {
   "cell_type": "code",
   "execution_count": 44,
   "id": "0d41ac3e",
   "metadata": {},
   "outputs": [
    {
     "data": {
      "text/plain": [
       "array([0.  , 0.25, 0.5 , 0.75, 1.  , 1.25, 1.5 , 1.75, 2.  ])"
      ]
     },
     "execution_count": 44,
     "metadata": {},
     "output_type": "execute_result"
    }
   ],
   "source": [
    "np.linspace(0,2,9) "
   ]
  },
  {
   "cell_type": "markdown",
   "id": "4cd8737a",
   "metadata": {},
   "source": [
    "Create an array of evenly spaced values (number of samples)"
   ]
  },
  {
   "cell_type": "markdown",
   "id": "46a7ad25",
   "metadata": {},
   "source": [
    "### eye\n",
    "2X2 identity matrix"
   ]
  },
  {
   "cell_type": "code",
   "execution_count": 38,
   "id": "a86e28ae",
   "metadata": {},
   "outputs": [
    {
     "data": {
      "text/plain": [
       "array([[1., 0.],\n",
       "       [0., 1.]])"
      ]
     },
     "execution_count": 38,
     "metadata": {},
     "output_type": "execute_result"
    }
   ],
   "source": [
    "np.eye(2) #Create a 2X2 identity matrix"
   ]
  },
  {
   "cell_type": "code",
   "execution_count": 39,
   "id": "d2d97922",
   "metadata": {},
   "outputs": [
    {
     "data": {
      "text/plain": [
       "array([[0.42147974, 0.68358475],\n",
       "       [0.54951042, 0.11321444]])"
      ]
     },
     "execution_count": 39,
     "metadata": {},
     "output_type": "execute_result"
    }
   ],
   "source": [
    "np.random.random((2,2)) #Create an array with random values"
   ]
  },
  {
   "cell_type": "code",
   "execution_count": 41,
   "id": "24929d95",
   "metadata": {},
   "outputs": [
    {
     "data": {
      "text/plain": [
       "array([[0.50004397, 0.86914736],\n",
       "       [0.94859486, 0.77574946],\n",
       "       [0.89751328, 0.85404409]])"
      ]
     },
     "execution_count": 41,
     "metadata": {},
     "output_type": "execute_result"
    }
   ],
   "source": [
    "np.empty((3,2)) "
   ]
  },
  {
   "cell_type": "code",
   "execution_count": null,
   "id": "249d58bc",
   "metadata": {},
   "outputs": [],
   "source": []
  },
  {
   "cell_type": "code",
   "execution_count": null,
   "id": "f06e41d7",
   "metadata": {},
   "outputs": [],
   "source": []
  }
 ],
 "metadata": {
  "kernelspec": {
   "display_name": "Python 3 (ipykernel)",
   "language": "python",
   "name": "python3"
  },
  "language_info": {
   "codemirror_mode": {
    "name": "ipython",
    "version": 3
   },
   "file_extension": ".py",
   "mimetype": "text/x-python",
   "name": "python",
   "nbconvert_exporter": "python",
   "pygments_lexer": "ipython3",
   "version": "3.9.12"
  }
 },
 "nbformat": 4,
 "nbformat_minor": 5
}
