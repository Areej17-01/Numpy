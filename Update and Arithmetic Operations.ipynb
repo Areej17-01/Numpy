{
 "cells": [
  {
   "cell_type": "code",
   "execution_count": 1,
   "id": "f0d86536",
   "metadata": {},
   "outputs": [],
   "source": [
    "import numpy as np"
   ]
  },
  {
   "cell_type": "markdown",
   "id": "6b938012",
   "metadata": {},
   "source": [
    "### Two lists"
   ]
  },
  {
   "cell_type": "code",
   "execution_count": 2,
   "id": "b497b975",
   "metadata": {},
   "outputs": [],
   "source": [
    "list1 = np.random.rand(10) \n",
    "list2 = np.random.rand(10) "
   ]
  },
  {
   "cell_type": "code",
   "execution_count": 6,
   "id": "047f97eb",
   "metadata": {},
   "outputs": [
    {
     "data": {
      "text/plain": [
       "array([0.40842421, 1.01307021, 0.61296562, 0.83478795, 1.5389524 ,\n",
       "       0.93327592, 1.14571935, 1.10218029, 0.95988908, 0.95193151])"
      ]
     },
     "execution_count": 6,
     "metadata": {},
     "output_type": "execute_result"
    }
   ],
   "source": [
    "add = np.add(list1, list2)\n",
    "list1+list2"
   ]
  },
  {
   "cell_type": "code",
   "execution_count": 4,
   "id": "9c9b97d8",
   "metadata": {},
   "outputs": [
    {
     "data": {
      "text/plain": [
       "array([ 0.25163285, -0.09439006,  0.21666691,  0.27432357,  0.21796472,\n",
       "        0.56632489,  0.57269428, -0.81409085,  0.37648661,  0.57240682])"
      ]
     },
     "execution_count": 4,
     "metadata": {},
     "output_type": "execute_result"
    }
   ],
   "source": [
    "sub = np.subtract(list1, list2)\n",
    "list1-list2"
   ]
  },
  {
   "cell_type": "code",
   "execution_count": 5,
   "id": "ae6af32f",
   "metadata": {},
   "outputs": [
    {
     "data": {
      "text/plain": [
       "array([4.20977944, 0.82953779, 2.09345249, 1.97891529, 1.33000266,\n",
       "       4.08665109, 2.99884551, 0.15033856, 2.29065827, 4.0164405 ])"
      ]
     },
     "execution_count": 5,
     "metadata": {},
     "output_type": "execute_result"
    }
   ],
   "source": [
    "div = np.divide(list1, list2)\n",
    "list1/list2"
   ]
  },
  {
   "cell_type": "code",
   "execution_count": 7,
   "id": "595ec006",
   "metadata": {},
   "outputs": [
    {
     "data": {
      "text/plain": [
       "array([0.02587281, 0.25435044, 0.08219558, 0.15540437, 0.58021647,\n",
       "       0.13757001, 0.24617352, 0.13801437, 0.19491122, 0.14463101])"
      ]
     },
     "execution_count": 7,
     "metadata": {},
     "output_type": "execute_result"
    }
   ],
   "source": [
    "mult = np.multiply(list1, list2)\n",
    "list1*list2"
   ]
  },
  {
   "cell_type": "code",
   "execution_count": 8,
   "id": "8de61429",
   "metadata": {},
   "outputs": [
    {
     "data": {
      "text/plain": [
       "1.9593398020370925"
      ]
     },
     "execution_count": 8,
     "metadata": {},
     "output_type": "execute_result"
    }
   ],
   "source": [
    "dot = np.dot(list1, list2)\n",
    "dot"
   ]
  },
  {
   "cell_type": "markdown",
   "id": "44583216",
   "metadata": {},
   "source": [
    "### Arithmetic Operations"
   ]
  },
  {
   "cell_type": "code",
   "execution_count": 9,
   "id": "f12f341b",
   "metadata": {},
   "outputs": [
    {
     "data": {
      "text/plain": [
       "array([1.39100781, 1.58302896, 1.51409253, 1.74116731, 2.40718632,\n",
       "       2.11657751, 2.36128701, 1.15493575, 1.95069915, 2.14291953])"
      ]
     },
     "execution_count": 9,
     "metadata": {},
     "output_type": "execute_result"
    }
   ],
   "source": [
    "np.exp(list1)"
   ]
  },
  {
   "cell_type": "code",
   "execution_count": 10,
   "id": "a2fd4129",
   "metadata": {},
   "outputs": [
    {
     "data": {
      "text/plain": [
       "array([0.57448109, 0.67774632, 0.64406232, 0.74468501, 0.9372612 ,\n",
       "       0.86591016, 0.92693409, 0.37953224, 0.81742758, 0.87302301])"
      ]
     },
     "execution_count": 10,
     "metadata": {},
     "output_type": "execute_result"
    }
   ],
   "source": [
    " np.sqrt(list1)"
   ]
  },
  {
   "cell_type": "code",
   "execution_count": 11,
   "id": "54f25159",
   "metadata": {},
   "outputs": [
    {
     "data": {
      "text/plain": [
       "array([0.32407002, 0.44335668, 0.40302179, 0.52656569, 0.76975584,\n",
       "       0.6814927 , 0.75732482, 0.14354711, 0.61956456, 0.69049211])"
      ]
     },
     "execution_count": 11,
     "metadata": {},
     "output_type": "execute_result"
    }
   ],
   "source": [
    "np.sin(list1)"
   ]
  },
  {
   "cell_type": "code",
   "execution_count": 12,
   "id": "248674f1",
   "metadata": {},
   "outputs": [
    {
     "data": {
      "text/plain": [
       "array([0.9460331 , 0.89634528, 0.91519038, 0.85013445, 0.63833843,\n",
       "       0.73182491, 0.65303837, 0.98964349, 0.7849457 , 0.72333992])"
      ]
     },
     "execution_count": 12,
     "metadata": {},
     "output_type": "execute_result"
    }
   ],
   "source": [
    "np.cos(list1)"
   ]
  },
  {
   "cell_type": "code",
   "execution_count": 13,
   "id": "b2b827a2",
   "metadata": {},
   "outputs": [
    {
     "data": {
      "text/plain": [
       "array([-1.10857618, -0.77796444, -0.87991959, -0.58958792, -0.12958654,\n",
       "       -0.28794824, -0.15174562, -1.93763149, -0.40318594, -0.27158674])"
      ]
     },
     "execution_count": 13,
     "metadata": {},
     "output_type": "execute_result"
    }
   ],
   "source": [
    "np.log(list1)"
   ]
  },
  {
   "cell_type": "code",
   "execution_count": 14,
   "id": "588e422a",
   "metadata": {},
   "outputs": [
    {
     "data": {
      "text/plain": [
       "(0.14404471776398398, 0.8784585639178178)"
      ]
     },
     "execution_count": 14,
     "metadata": {},
     "output_type": "execute_result"
    }
   ],
   "source": [
    "mins = np.min(list1)\n",
    "maxs = np.max(list1)\n",
    "mins,maxs"
   ]
  },
  {
   "cell_type": "code",
   "execution_count": 15,
   "id": "584658f1",
   "metadata": {},
   "outputs": [
    {
     "data": {
      "text/plain": [
       "(5.0, 2, 128)"
      ]
     },
     "execution_count": 15,
     "metadata": {},
     "output_type": "execute_result"
    }
   ],
   "source": [
    "sqrt = np.sqrt(25)\n",
    "ab = np.abs(-2)\n",
    "power = np.power(2,7)\n",
    "\n",
    "\n",
    "sqrt,ab,power"
   ]
  },
  {
   "cell_type": "code",
   "execution_count": 16,
   "id": "1c0bda88",
   "metadata": {},
   "outputs": [],
   "source": [
    "list1.sort()"
   ]
  },
  {
   "cell_type": "code",
   "execution_count": 17,
   "id": "a1ed466e",
   "metadata": {},
   "outputs": [
    {
     "data": {
      "text/plain": [
       "array([0.14404472, 0.33002853, 0.41481627, 0.45934007, 0.55455576,\n",
       "       0.66818785, 0.7498004 , 0.76216917, 0.85920682, 0.87845856])"
      ]
     },
     "execution_count": 17,
     "metadata": {},
     "output_type": "execute_result"
    }
   ],
   "source": [
    "list1"
   ]
  },
  {
   "cell_type": "code",
   "execution_count": 19,
   "id": "5262f8a9",
   "metadata": {},
   "outputs": [],
   "source": [
    "list1[0]=12"
   ]
  },
  {
   "cell_type": "code",
   "execution_count": 26,
   "id": "753282d7",
   "metadata": {},
   "outputs": [],
   "source": [
    "list1.sort(axis=0)"
   ]
  },
  {
   "cell_type": "code",
   "execution_count": 27,
   "id": "d8a2a007",
   "metadata": {},
   "outputs": [
    {
     "data": {
      "text/plain": [
       "array([ 0.33002853,  0.41481627,  0.45934007,  0.55455576,  0.66818785,\n",
       "        0.7498004 ,  0.76216917,  0.85920682,  0.87845856, 12.        ])"
      ]
     },
     "execution_count": 27,
     "metadata": {},
     "output_type": "execute_result"
    }
   ],
   "source": [
    "list1"
   ]
  },
  {
   "cell_type": "markdown",
   "id": "b633856b",
   "metadata": {},
   "source": [
    "### AGGREGATE"
   ]
  },
  {
   "cell_type": "code",
   "execution_count": 28,
   "id": "bf04f1da",
   "metadata": {},
   "outputs": [
    {
     "data": {
      "text/plain": [
       "17.6765634254513"
      ]
     },
     "execution_count": 28,
     "metadata": {},
     "output_type": "execute_result"
    }
   ],
   "source": [
    "list1.sum() #Array-wise sum\n"
   ]
  },
  {
   "cell_type": "code",
   "execution_count": 29,
   "id": "acf78e4b",
   "metadata": {},
   "outputs": [
    {
     "data": {
      "text/plain": [
       "0.33002852769502633"
      ]
     },
     "execution_count": 29,
     "metadata": {},
     "output_type": "execute_result"
    }
   ],
   "source": [
    "list1.min() #Array-wise minimum value\n"
   ]
  },
  {
   "cell_type": "code",
   "execution_count": 30,
   "id": "aa3df264",
   "metadata": {},
   "outputs": [
    {
     "data": {
      "text/plain": [
       "12.0"
      ]
     },
     "execution_count": 30,
     "metadata": {},
     "output_type": "execute_result"
    }
   ],
   "source": [
    "list1.max(axis=0) #Maximum value of an array row\n"
   ]
  },
  {
   "cell_type": "code",
   "execution_count": 32,
   "id": "97d619bd",
   "metadata": {},
   "outputs": [],
   "source": [
    "#list1.cumsum(axis=1) #Cumulative sum of the elements\n"
   ]
  },
  {
   "cell_type": "code",
   "execution_count": 33,
   "id": "005fdfd6",
   "metadata": {},
   "outputs": [
    {
     "data": {
      "text/plain": [
       "1.76765634254513"
      ]
     },
     "execution_count": 33,
     "metadata": {},
     "output_type": "execute_result"
    }
   ],
   "source": [
    "list1.mean() #Mean\n"
   ]
  },
  {
   "cell_type": "code",
   "execution_count": 40,
   "id": "930aa215",
   "metadata": {},
   "outputs": [],
   "source": [
    "#list1.median() #Median\n",
    "\n"
   ]
  },
  {
   "cell_type": "code",
   "execution_count": 39,
   "id": "8bb095ec",
   "metadata": {},
   "outputs": [],
   "source": [
    "#list1.corrcoef() #Correlation coefficient\n"
   ]
  },
  {
   "cell_type": "code",
   "execution_count": 36,
   "id": "9768b1ea",
   "metadata": {},
   "outputs": [
    {
     "data": {
      "text/plain": [
       "array([ 0.33002853,  0.41481627,  0.45934007,  0.55455576,  0.66818785,\n",
       "        0.7498004 ,  0.76216917,  0.85920682,  0.87845856, 12.        ])"
      ]
     },
     "execution_count": 36,
     "metadata": {},
     "output_type": "execute_result"
    }
   ],
   "source": [
    "list1"
   ]
  },
  {
   "cell_type": "code",
   "execution_count": 37,
   "id": "1ee21828",
   "metadata": {},
   "outputs": [
    {
     "data": {
      "text/plain": [
       "3.415449173817817"
      ]
     },
     "execution_count": 37,
     "metadata": {},
     "output_type": "execute_result"
    }
   ],
   "source": [
    "np.std(list1) "
   ]
  },
  {
   "cell_type": "code",
   "execution_count": null,
   "id": "f16bda30",
   "metadata": {},
   "outputs": [],
   "source": []
  }
 ],
 "metadata": {
  "kernelspec": {
   "display_name": "Python 3 (ipykernel)",
   "language": "python",
   "name": "python3"
  },
  "language_info": {
   "codemirror_mode": {
    "name": "ipython",
    "version": 3
   },
   "file_extension": ".py",
   "mimetype": "text/x-python",
   "name": "python",
   "nbconvert_exporter": "python",
   "pygments_lexer": "ipython3",
   "version": "3.9.12"
  }
 },
 "nbformat": 4,
 "nbformat_minor": 5
}
