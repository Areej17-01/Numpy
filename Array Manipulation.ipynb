{
 "cells": [
  {
   "cell_type": "code",
   "execution_count": 1,
   "id": "51c2a429",
   "metadata": {},
   "outputs": [],
   "source": [
    "import numpy as np"
   ]
  },
  {
   "cell_type": "code",
   "execution_count": 33,
   "id": "fd28898e",
   "metadata": {},
   "outputs": [
    {
     "data": {
      "text/plain": [
       "array([[0.55642947, 0.39355085, 0.74267559],\n",
       "       [0.58128839, 0.15979421, 0.18664909]])"
      ]
     },
     "execution_count": 33,
     "metadata": {},
     "output_type": "execute_result"
    }
   ],
   "source": [
    "list1=np.random.rand(2,3)\n",
    "list2=np.random.rand(2,3)\n",
    "list1"
   ]
  },
  {
   "cell_type": "markdown",
   "id": "29c53a3d",
   "metadata": {},
   "source": [
    "#### Transposing Array"
   ]
  },
  {
   "cell_type": "code",
   "execution_count": 7,
   "id": "00b6895b",
   "metadata": {},
   "outputs": [
    {
     "data": {
      "text/plain": [
       "array([[0.88956199, 0.08609392],\n",
       "       [0.48049996, 0.38562421],\n",
       "       [0.44909577, 0.39783423]])"
      ]
     },
     "execution_count": 7,
     "metadata": {},
     "output_type": "execute_result"
    }
   ],
   "source": [
    "\n",
    "i = np.transpose(list1) #Permute array dimensions\n",
    "#i.T #Permute array dimensions\n",
    "i"
   ]
  },
  {
   "cell_type": "markdown",
   "id": "e9f37713",
   "metadata": {},
   "source": [
    "#### Changing Array Shape"
   ]
  },
  {
   "cell_type": "code",
   "execution_count": 8,
   "id": "4f5f401c",
   "metadata": {},
   "outputs": [
    {
     "data": {
      "text/plain": [
       "array([0.88956199, 0.48049996, 0.44909577, 0.08609392, 0.38562421,\n",
       "       0.39783423])"
      ]
     },
     "execution_count": 8,
     "metadata": {},
     "output_type": "execute_result"
    }
   ],
   "source": [
    "\n",
    "list1.ravel() #Flatten the array\n",
    "\n",
    " "
   ]
  },
  {
   "cell_type": "code",
   "execution_count": 11,
   "id": "e599936c",
   "metadata": {},
   "outputs": [
    {
     "data": {
      "text/plain": [
       "array([[0.64900033, 0.84868346],\n",
       "       [0.0902446 , 0.07950715],\n",
       "       [0.40306402, 0.59343437]])"
      ]
     },
     "execution_count": 11,
     "metadata": {},
     "output_type": "execute_result"
    }
   ],
   "source": [
    "list1.reshape(3,-2) #Reshape, but don’t change data"
   ]
  },
  {
   "cell_type": "markdown",
   "id": "c29f4f68",
   "metadata": {},
   "source": [
    "#### Adding/Removing Elements\n"
   ]
  },
  {
   "cell_type": "code",
   "execution_count": 13,
   "id": "bfd55c32",
   "metadata": {},
   "outputs": [],
   "source": [
    "#list1.resize((2,6)) #Return a new array with shape (2,6)\n",
    "\n"
   ]
  },
  {
   "cell_type": "code",
   "execution_count": null,
   "id": "cdf811e0",
   "metadata": {},
   "outputs": [],
   "source": [
    "np.append(h,g) #Append items to an array\n",
    "np.insert(a, 1, 5) #Insert items in an array\n",
    "np.delete(a,[1]) #Delete items from an array"
   ]
  },
  {
   "cell_type": "markdown",
   "id": "4c46d7a0",
   "metadata": {},
   "source": [
    "#### Combining Arrays"
   ]
  },
  {
   "cell_type": "code",
   "execution_count": 15,
   "id": "5502f757",
   "metadata": {},
   "outputs": [
    {
     "data": {
      "text/plain": [
       "array([[0.28141132, 0.64152365, 0.29551715],\n",
       "       [0.82895819, 0.90921931, 0.35079881],\n",
       "       [0.62992166, 0.22751954, 0.67398675],\n",
       "       [0.16041267, 0.54387965, 0.78355382]])"
      ]
     },
     "execution_count": 15,
     "metadata": {},
     "output_type": "execute_result"
    }
   ],
   "source": [
    "\n",
    "np.concatenate((list1,list2),axis=0) #Concatenate arrays\n",
    "\n",
    "\n",
    " "
   ]
  },
  {
   "cell_type": "code",
   "execution_count": 16,
   "id": "9daaa316",
   "metadata": {},
   "outputs": [
    {
     "data": {
      "text/plain": [
       "array([[0.28141132, 0.64152365, 0.29551715],\n",
       "       [0.82895819, 0.90921931, 0.35079881],\n",
       "       [0.62992166, 0.22751954, 0.67398675],\n",
       "       [0.16041267, 0.54387965, 0.78355382]])"
      ]
     },
     "execution_count": 16,
     "metadata": {},
     "output_type": "execute_result"
    }
   ],
   "source": [
    "np.vstack((list1,list2)) #Stack arrays vertically (row-wise)\n",
    "\n"
   ]
  },
  {
   "cell_type": "code",
   "execution_count": 17,
   "id": "6532c3a5",
   "metadata": {},
   "outputs": [
    {
     "data": {
      "text/plain": [
       "array([[0.28141132, 0.64152365, 0.29551715],\n",
       "       [0.82895819, 0.90921931, 0.35079881],\n",
       "       [0.62992166, 0.22751954, 0.67398675],\n",
       "       [0.16041267, 0.54387965, 0.78355382]])"
      ]
     },
     "execution_count": 17,
     "metadata": {},
     "output_type": "execute_result"
    }
   ],
   "source": [
    "np.r_[list1,list2] #Stack arrays vertically (row-wise)\n"
   ]
  },
  {
   "cell_type": "code",
   "execution_count": 18,
   "id": "2f3fe7b8",
   "metadata": {},
   "outputs": [
    {
     "data": {
      "text/plain": [
       "array([[0.28141132, 0.64152365, 0.29551715, 0.62992166, 0.22751954,\n",
       "        0.67398675],\n",
       "       [0.82895819, 0.90921931, 0.35079881, 0.16041267, 0.54387965,\n",
       "        0.78355382]])"
      ]
     },
     "execution_count": 18,
     "metadata": {},
     "output_type": "execute_result"
    }
   ],
   "source": [
    "np.hstack((list1,list2)) #Stack arrays horizontally (column-wise)\n",
    "\n"
   ]
  },
  {
   "cell_type": "code",
   "execution_count": 19,
   "id": "53ff1f95",
   "metadata": {},
   "outputs": [
    {
     "data": {
      "text/plain": [
       "array([[0.28141132, 0.64152365, 0.29551715, 0.62992166, 0.22751954,\n",
       "        0.67398675],\n",
       "       [0.82895819, 0.90921931, 0.35079881, 0.16041267, 0.54387965,\n",
       "        0.78355382]])"
      ]
     },
     "execution_count": 19,
     "metadata": {},
     "output_type": "execute_result"
    }
   ],
   "source": [
    "np.column_stack((list1,list2)) #Create stacked column-wise arrays\n",
    "\n"
   ]
  },
  {
   "cell_type": "code",
   "execution_count": 20,
   "id": "09fd165a",
   "metadata": {},
   "outputs": [
    {
     "data": {
      "text/plain": [
       "array([[0.28141132, 0.64152365, 0.29551715, 0.62992166, 0.22751954,\n",
       "        0.67398675],\n",
       "       [0.82895819, 0.90921931, 0.35079881, 0.16041267, 0.54387965,\n",
       "        0.78355382]])"
      ]
     },
     "execution_count": 20,
     "metadata": {},
     "output_type": "execute_result"
    }
   ],
   "source": [
    "np.c_[list1,list2] #Create stacked column-wise arrays"
   ]
  },
  {
   "cell_type": "markdown",
   "id": "36ec2adc",
   "metadata": {},
   "source": [
    "#### Splitting Arrays"
   ]
  },
  {
   "cell_type": "code",
   "execution_count": 28,
   "id": "6d44827d",
   "metadata": {},
   "outputs": [
    {
     "data": {
      "text/plain": [
       "[array([1, 2, 3, 4, 5, 6, 7, 7]), array([ 8,  9, 10, 11, 12, 13, 14, 15])]"
      ]
     },
     "execution_count": 28,
     "metadata": {},
     "output_type": "execute_result"
    }
   ],
   "source": [
    "list3=np.array([1,2,3,4,5,6,7,7,8,9,10,11,12,13,14,15])\n",
    "np.hsplit(list3,2) #Split the array horizontally at the 3rd\n",
    "\n"
   ]
  },
  {
   "cell_type": "code",
   "execution_count": 36,
   "id": "33b9795e",
   "metadata": {},
   "outputs": [
    {
     "data": {
      "text/plain": [
       "[array([[0.55642947, 0.39355085, 0.74267559]]),\n",
       " array([[0.58128839, 0.15979421, 0.18664909]])]"
      ]
     },
     "execution_count": 36,
     "metadata": {},
     "output_type": "execute_result"
    }
   ],
   "source": [
    "np.vsplit(list1,2) #Split the array vertically at the 2nd index\n"
   ]
  },
  {
   "cell_type": "code",
   "execution_count": 35,
   "id": "8da7798f",
   "metadata": {},
   "outputs": [
    {
     "data": {
      "text/plain": [
       "array([[0.55642947, 0.39355085, 0.74267559],\n",
       "       [0.58128839, 0.15979421, 0.18664909]])"
      ]
     },
     "execution_count": 35,
     "metadata": {},
     "output_type": "execute_result"
    }
   ],
   "source": [
    "list1"
   ]
  },
  {
   "cell_type": "code",
   "execution_count": 37,
   "id": "f19d36a3",
   "metadata": {},
   "outputs": [],
   "source": [
    "list3=np.array([1,2,3,4,5,6,7,7,8,9,10,11,12,13,14,15])"
   ]
  },
  {
   "cell_type": "code",
   "execution_count": null,
   "id": "37fbb9b5",
   "metadata": {},
   "outputs": [],
   "source": []
  }
 ],
 "metadata": {
  "kernelspec": {
   "display_name": "Python 3 (ipykernel)",
   "language": "python",
   "name": "python3"
  },
  "language_info": {
   "codemirror_mode": {
    "name": "ipython",
    "version": 3
   },
   "file_extension": ".py",
   "mimetype": "text/x-python",
   "name": "python",
   "nbconvert_exporter": "python",
   "pygments_lexer": "ipython3",
   "version": "3.9.12"
  }
 },
 "nbformat": 4,
 "nbformat_minor": 5
}
