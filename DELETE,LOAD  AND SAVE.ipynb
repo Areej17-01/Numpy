{
 "cells": [
  {
   "cell_type": "code",
   "execution_count": 1,
   "id": "be7adfd7",
   "metadata": {},
   "outputs": [],
   "source": [
    "import numpy as np"
   ]
  },
  {
   "cell_type": "code",
   "execution_count": 2,
   "id": "c823217b",
   "metadata": {},
   "outputs": [],
   "source": [
    "data = np.random.rand(2,3,4)"
   ]
  },
  {
   "cell_type": "code",
   "execution_count": 11,
   "id": "52f2c644",
   "metadata": {},
   "outputs": [],
   "source": [
    "data2 = np.random.rand(2,3,4)"
   ]
  },
  {
   "cell_type": "code",
   "execution_count": 3,
   "id": "75786ade",
   "metadata": {},
   "outputs": [
    {
     "data": {
      "text/plain": [
       "array([[[0.54400999, 0.67231374, 0.9668899 , 0.50433331],\n",
       "        [0.98555563, 0.56712504, 0.04186846, 0.4014088 ]],\n",
       "\n",
       "       [[0.88121346, 0.65347748, 0.8520115 , 0.51105343],\n",
       "        [0.08650482, 0.64212354, 0.85045038, 0.00793927]]])"
      ]
     },
     "execution_count": 3,
     "metadata": {},
     "output_type": "execute_result"
    }
   ],
   "source": [
    "np.delete(data, 0, axis=1)\n"
   ]
  },
  {
   "cell_type": "code",
   "execution_count": 4,
   "id": "4186d82b",
   "metadata": {},
   "outputs": [],
   "source": [
    "np.save(\"new array\", data)"
   ]
  },
  {
   "cell_type": "code",
   "execution_count": 5,
   "id": "c7f956f8",
   "metadata": {},
   "outputs": [],
   "source": [
    "\n",
    "test = np.load(\"new array.npy\")"
   ]
  },
  {
   "cell_type": "code",
   "execution_count": 6,
   "id": "2ebd3d13",
   "metadata": {},
   "outputs": [
    {
     "data": {
      "text/plain": [
       "array([[[0.11472922, 0.45480401, 0.83716575, 0.59848879],\n",
       "        [0.54400999, 0.67231374, 0.9668899 , 0.50433331],\n",
       "        [0.98555563, 0.56712504, 0.04186846, 0.4014088 ]],\n",
       "\n",
       "       [[0.45340582, 0.79958454, 0.28386611, 0.55697363],\n",
       "        [0.88121346, 0.65347748, 0.8520115 , 0.51105343],\n",
       "        [0.08650482, 0.64212354, 0.85045038, 0.00793927]]])"
      ]
     },
     "execution_count": 6,
     "metadata": {},
     "output_type": "execute_result"
    }
   ],
   "source": [
    "test"
   ]
  },
  {
   "cell_type": "code",
   "execution_count": 8,
   "id": "438e9d7d",
   "metadata": {},
   "outputs": [
    {
     "data": {
      "text/plain": [
       "array([[[0.11472922, 0.45480401, 0.83716575, 0.59848879],\n",
       "        [0.54400999, 0.67231374, 0.9668899 , 0.50433331],\n",
       "        [0.98555563, 0.56712504, 0.04186846, 0.4014088 ]],\n",
       "\n",
       "       [[0.45340582, 0.79958454, 0.28386611, 0.55697363],\n",
       "        [0.88121346, 0.65347748, 0.8520115 , 0.51105343],\n",
       "        [0.08650482, 0.64212354, 0.85045038, 0.00793927]]])"
      ]
     },
     "execution_count": 8,
     "metadata": {},
     "output_type": "execute_result"
    }
   ],
   "source": [
    "h=data.view() #Create a view of the array with the same data\n",
    "h"
   ]
  },
  {
   "cell_type": "code",
   "execution_count": 9,
   "id": "a80cd975",
   "metadata": {},
   "outputs": [],
   "source": [
    "np.copy(data) #Create a copy of the array\n",
    "#or\n",
    "h = data.copy() \n"
   ]
  },
  {
   "cell_type": "markdown",
   "id": "2b5d8145",
   "metadata": {},
   "source": [
    "### Saving & Loading On Disk\n"
   ]
  },
  {
   "cell_type": "code",
   "execution_count": 10,
   "id": "04a0dec6",
   "metadata": {},
   "outputs": [],
   "source": [
    "np.save('my_array', data)\n"
   ]
  },
  {
   "cell_type": "code",
   "execution_count": 12,
   "id": "54a7e9e3",
   "metadata": {},
   "outputs": [],
   "source": [
    "np.savez('array.npz', data, data2)\n"
   ]
  },
  {
   "cell_type": "code",
   "execution_count": 16,
   "id": "725d77a5",
   "metadata": {},
   "outputs": [
    {
     "data": {
      "text/plain": [
       "<numpy.lib.npyio.NpzFile at 0x28a88247cd0>"
      ]
     },
     "execution_count": 16,
     "metadata": {},
     "output_type": "execute_result"
    }
   ],
   "source": [
    "np.load('array.npz')"
   ]
  },
  {
   "cell_type": "markdown",
   "id": "1bc81e0a",
   "metadata": {},
   "source": [
    "### text files"
   ]
  },
  {
   "cell_type": "code",
   "execution_count": 18,
   "id": "195ced2c",
   "metadata": {},
   "outputs": [
    {
     "data": {
      "text/plain": [
       "array([[0.53669547, 0.92382354, 0.99891023],\n",
       "       [0.9724958 , 0.71379441, 0.66343798]])"
      ]
     },
     "execution_count": 18,
     "metadata": {},
     "output_type": "execute_result"
    }
   ],
   "source": [
    "data2d=np.random.rand(2,3)\n",
    "data2d"
   ]
  },
  {
   "cell_type": "code",
   "execution_count": 20,
   "id": "9d38d6a6",
   "metadata": {},
   "outputs": [],
   "source": [
    "np.savetxt(\"myarray.txt\", data2d, delimiter=\" \")"
   ]
  },
  {
   "cell_type": "code",
   "execution_count": 21,
   "id": "e7777374",
   "metadata": {},
   "outputs": [
    {
     "data": {
      "text/plain": [
       "array([[0.53669547, 0.92382354, 0.99891023],\n",
       "       [0.9724958 , 0.71379441, 0.66343798]])"
      ]
     },
     "execution_count": 21,
     "metadata": {},
     "output_type": "execute_result"
    }
   ],
   "source": [
    "np.loadtxt(\"myarray.txt\")"
   ]
  },
  {
   "cell_type": "code",
   "execution_count": null,
   "id": "860c55e7",
   "metadata": {},
   "outputs": [],
   "source": [
    "#csv\n",
    "np.genfromtxt(\"my_file.csv\", delimiter=',')"
   ]
  }
 ],
 "metadata": {
  "kernelspec": {
   "display_name": "Python 3 (ipykernel)",
   "language": "python",
   "name": "python3"
  },
  "language_info": {
   "codemirror_mode": {
    "name": "ipython",
    "version": 3
   },
   "file_extension": ".py",
   "mimetype": "text/x-python",
   "name": "python",
   "nbconvert_exporter": "python",
   "pygments_lexer": "ipython3",
   "version": "3.9.12"
  }
 },
 "nbformat": 4,
 "nbformat_minor": 5
}
